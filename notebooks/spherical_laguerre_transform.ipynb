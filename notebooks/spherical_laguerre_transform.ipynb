{
 "cells": [
  {
   "cell_type": "markdown",
   "metadata": {},
   "source": [
    "# Spherical Laguerre transforms by exploiting kernel precomputes\n",
    "\n",
    "Lets start by importing some packages"
   ]
  },
  {
   "cell_type": "code",
   "execution_count": null,
   "metadata": {},
   "outputs": [],
   "source": [
    "import numpy as np\n",
    "\n",
    "from jax import jit, device_put\n",
    "import jax.numpy as jnp\n",
    "from jax.config import config\n",
    "from jax.lib import xla_bridge\n",
    "print(xla_bridge.get_backend().platform)\n",
    "\n",
    "config.update(\"jax_enable_x64\", True)\n",
    "\n",
    "from s2ball.construct.legendre_constructor import load_legendre_matrix\n",
    "from s2ball.transform.laguerre import *\n",
    "from s2ball.utils import *"
   ]
  },
  {
   "cell_type": "markdown",
   "metadata": {},
   "source": [
    "### Generate a random complex bandlimited field"
   ]
  },
  {
   "cell_type": "code",
   "execution_count": null,
   "metadata": {},
   "outputs": [],
   "source": [
    "L = 8\n",
    "P = L\n",
    "tau = 1.0\n",
    "rng = np.random.default_rng(193412341234)\n",
    "\n",
    "legendre_forward = load_legendre_matrix(L, forward=True)\n",
    "legendre_inverse = load_legendre_matrix(L, forward=False)\n",
    "\n",
    "lag_poly_f = laguerre_sampling.polynomials(P, tau, forward=True)\n",
    "lag_poly_i = laguerre_sampling.polynomials(P, tau, forward=False)\n",
    "\n",
    "legendre_forward_jax = device_put(legendre_forward)\n",
    "legendre_inverse_jax = device_put(legendre_inverse)\n",
    "\n",
    "lag_poly_f_jax = device_put(lag_poly_f)\n",
    "lag_poly_i_jax = device_put(lag_poly_i)\n",
    "\n",
    "\n",
    "flmp = generate_flmp(rng, L, P)\n",
    "f = inverse(flmp, L, P, tau, legendre_inverse, lag_poly_i)\n",
    "flmp = forward(f, L, P, tau, legendre_forward, lag_poly_f)\n",
    "f = inverse(flmp, L, P, tau, legendre_inverse, lag_poly_i)"
   ]
  },
  {
   "cell_type": "markdown",
   "metadata": {},
   "source": [
    "# Forward transform\n",
    "\n",
    "Shape: $(P, L, 2L-1) \\rightarrow (P,L, 2L-1)$ triangularly oversampled spherical Laguerre coefficients."
   ]
  },
  {
   "cell_type": "markdown",
   "metadata": {},
   "source": [
    "FLAG implementation takes ~ 0.2s -- [figure 6b](https://arxiv.org/pdf/1205.0792.pdf)"
   ]
  },
  {
   "cell_type": "markdown",
   "metadata": {},
   "source": [
    "### NumPy CPU implementation"
   ]
  },
  {
   "cell_type": "code",
   "execution_count": null,
   "metadata": {},
   "outputs": [],
   "source": [
    "flmp_numpy = forward_transform(f, legendre_forward, lag_poly_f)\n",
    "%timeit forward_transform(f, legendre_forward, lag_poly_f)"
   ]
  },
  {
   "cell_type": "markdown",
   "metadata": {},
   "source": [
    "### JAX GPU implementation"
   ]
  },
  {
   "cell_type": "code",
   "execution_count": null,
   "metadata": {},
   "outputs": [],
   "source": [
    "f_jax = device_put(f)\n",
    "forward_jit = jit(forward_transform_jax)\n",
    "flmp_jax = forward_jit(f_jax, legendre_forward_jax, lag_poly_f_jax).block_until_ready()\n",
    "\n",
    "%timeit forward_jit(f_jax, legendre_forward_jax, lag_poly_f_jax)"
   ]
  },
  {
   "cell_type": "markdown",
   "metadata": {},
   "source": [
    "### Evaluate transform error"
   ]
  },
  {
   "cell_type": "code",
   "execution_count": null,
   "metadata": {},
   "outputs": [],
   "source": [
    "flmp_jax = np.array(flmp_jax)\n",
    "print(\"Numpy: Forward mean absolute error = {}\".format(np.nanmean(np.abs(flmp_numpy - flmp))))\n",
    "print(\"JAX: Forward mean absolute error = {}\".format(np.nanmean(np.abs(flmp_jax - flmp))))"
   ]
  },
  {
   "cell_type": "markdown",
   "metadata": {},
   "source": [
    "# Inverse transform \n",
    "Shape: $(P, L, 2L-1) \\rightarrow (P, L, 2L-1)$ "
   ]
  },
  {
   "cell_type": "markdown",
   "metadata": {},
   "source": [
    "FLAG implementation takes ~ 0.2s -- [figure 6b](https://arxiv.org/pdf/1205.0792.pdf)"
   ]
  },
  {
   "cell_type": "markdown",
   "metadata": {},
   "source": [
    "### NumPy CPU implementation"
   ]
  },
  {
   "cell_type": "code",
   "execution_count": null,
   "metadata": {},
   "outputs": [],
   "source": [
    "f_numpy = inverse_transform(flmp_numpy, legendre_inverse, lag_poly_i)\n",
    "%timeit inverse_transform(flmp_numpy, legendre_inverse, lag_poly_i)"
   ]
  },
  {
   "cell_type": "markdown",
   "metadata": {},
   "source": [
    "### JAX GPU implementation"
   ]
  },
  {
   "cell_type": "code",
   "execution_count": null,
   "metadata": {},
   "outputs": [],
   "source": [
    "flmp_jax = device_put(flmp_jax)\n",
    "inverse_jit = jit(inverse_transform_jax)\n",
    "f_jax = inverse_jit(flmp_jax, legendre_inverse_jax, lag_poly_i_jax).block_until_ready()\n",
    "\n",
    "%timeit inverse_jit(flmp_jax, legendre_inverse_jax, lag_poly_i_jax)"
   ]
  },
  {
   "cell_type": "markdown",
   "metadata": {},
   "source": [
    "### Evaluate transform error"
   ]
  },
  {
   "cell_type": "code",
   "execution_count": null,
   "metadata": {},
   "outputs": [],
   "source": [
    "f_jax = np.array(f_jax)\n",
    "print(\"Numpy: Forward mean absolute error = {}\".format(np.nanmean(np.abs(f_numpy - f))))\n",
    "print(\"JAX: Forward mean absolute error = {}\".format(np.nanmean(np.abs(f_jax - f))))"
   ]
  },
  {
   "cell_type": "code",
   "execution_count": null,
   "metadata": {},
   "outputs": [],
   "source": []
  }
 ],
 "metadata": {
  "interpreter": {
   "hash": "805e7ce19fe903a3ed1299c98a3c14514eb61d14b8d138d66cb4f32886f441e4"
  },
  "kernelspec": {
   "display_name": "baller",
   "language": "python",
   "name": "baller"
  },
  "language_info": {
   "codemirror_mode": {
    "name": "ipython",
    "version": 3
   },
   "file_extension": ".py",
   "mimetype": "text/x-python",
   "name": "python",
   "nbconvert_exporter": "python",
   "pygments_lexer": "ipython3",
   "version": "3.10.12"
  },
  "orig_nbformat": 4
 },
 "nbformat": 4,
 "nbformat_minor": 2
}
