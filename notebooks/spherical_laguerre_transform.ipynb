{
 "cells": [
  {
   "cell_type": "markdown",
   "metadata": {},
   "source": [
    "# Spherical-Laguerre transform\n",
    "\n",
    "Lets start by importing some packages"
   ]
  },
  {
   "cell_type": "code",
   "execution_count": 10,
   "metadata": {},
   "outputs": [
    {
     "name": "stdout",
     "output_type": "stream",
     "text": [
      "cpu\n"
     ]
    },
    {
     "name": "stderr",
     "output_type": "stream",
     "text": [
      "<ipython-input-10-12bc8a4066d1>:2: DeprecationWarning: Accessing jax.config via the jax.config submodule is deprecated.\n",
      "  from jax.config import config\n"
     ]
    }
   ],
   "source": [
    "# Lets set the precision.\n",
    "from jax.config import config\n",
    "config.update(\"jax_enable_x64\", True)\n",
    "\n",
    "# Import math libraries.\n",
    "import numpy as np\n",
    "import jax.numpy as jnp\n",
    "\n",
    "# Check which devices we're running on.\n",
    "from jax.lib import xla_bridge\n",
    "print(xla_bridge.get_backend().platform)\n",
    "\n",
    "# Import the s2ball library.\n",
    "import s2ball\n",
    "from s2ball.transform import laguerre"
   ]
  },
  {
   "cell_type": "markdown",
   "metadata": {},
   "source": [
    "### Generate a random complex bandlimited field\n",
    "Here we generate random Spherical-Laguerre coefficients flmp which we then convert into a bandlimit signal f on $\\mathbb{B}^3=\\mathbb{R}^+\\times \\mathbb{S}^2$. We also generate some precomputed values which are cached and passed to the associated transforms at run time."
   ]
  },
  {
   "cell_type": "code",
   "execution_count": 11,
   "metadata": {},
   "outputs": [],
   "source": [
    "L = 32        # Harmonic bandlimit of the problem.\n",
    "P = 32        # Radial bandlimit of the problem.\n",
    "\n",
    "# Define a random seed\n",
    "rng = np.random.default_rng(193412341234)\n",
    "\n",
    "# Use s2ball functions to generate a random signal.\n",
    "flmp = s2ball.utils.generate_flmp(rng, L, P)\n",
    "f = laguerre.inverse(flmp, L, P)    # Note currently this has to explicitly bandlimit flmp,\n",
    "flmp = laguerre.forward(f, L, P)    # as I have yet to enforce bandlimiting symmetries to\n",
    "f = laguerre.inverse(flmp, L, P)    # generate_flmp directly.\n"
   ]
  },
  {
   "cell_type": "markdown",
   "metadata": {},
   "source": [
    "### Load/construct relevant associated Legendre matrices\n",
    "\n",
    "Load precomputed associated Legendre matrices which are used to evaluate the spherical harmonic transform. If these matrices have already been computed, the load function will attempt to locate them inside the .matrices hidden directory. Note that you can specify a directory of your choice, .matrices is simply a default. "
   ]
  },
  {
   "cell_type": "code",
   "execution_count": 12,
   "metadata": {},
   "outputs": [],
   "source": [
    "matrices = s2ball.construct.matrix.generate_matrices(\"spherical_laguerre\", L, P=P)"
   ]
  },
  {
   "cell_type": "markdown",
   "metadata": {},
   "source": [
    "# Forward transform\n",
    "\n",
    "Shape: $(P, L, 2L-1) \\rightarrow (P,L, 2L-1)$ triangularly oversampled spherical Laguerre coefficients."
   ]
  },
  {
   "cell_type": "markdown",
   "metadata": {},
   "source": [
    "### NumPy CPU implementation"
   ]
  },
  {
   "cell_type": "code",
   "execution_count": 13,
   "metadata": {},
   "outputs": [
    {
     "name": "stdout",
     "output_type": "stream",
     "text": [
      "10.2 ms ± 18.9 µs per loop (mean ± std. dev. of 7 runs, 100 loops each)\n"
     ]
    }
   ],
   "source": [
    "flmp_numpy = laguerre.forward_transform(f, matrices)\n",
    "%timeit laguerre.forward_transform(f, matrices)"
   ]
  },
  {
   "cell_type": "markdown",
   "metadata": {},
   "source": [
    "### JAX GPU implementation"
   ]
  },
  {
   "cell_type": "code",
   "execution_count": 14,
   "metadata": {},
   "outputs": [
    {
     "name": "stdout",
     "output_type": "stream",
     "text": [
      "1.63 ms ± 1.75 µs per loop (mean ± std. dev. of 7 runs, 1,000 loops each)\n"
     ]
    }
   ],
   "source": [
    "flmp_jax = laguerre.forward_transform_jax(f, matrices)\n",
    "%timeit laguerre.forward_transform_jax(f, matrices)"
   ]
  },
  {
   "cell_type": "markdown",
   "metadata": {},
   "source": [
    "### Evaluate transform error"
   ]
  },
  {
   "cell_type": "code",
   "execution_count": 15,
   "metadata": {},
   "outputs": [
    {
     "name": "stdout",
     "output_type": "stream",
     "text": [
      "Numpy: Forward mean absolute error = 2.833944977439441e-14\n",
      "JAX: Forward mean absolute error = 2.8340976016381722e-14\n"
     ]
    }
   ],
   "source": [
    "print(\"Numpy: Forward mean absolute error = {}\".format(np.nanmean(np.abs(flmp_numpy - flmp))))\n",
    "print(\"JAX: Forward mean absolute error = {}\".format(np.nanmean(np.abs(flmp_jax - flmp))))"
   ]
  },
  {
   "cell_type": "markdown",
   "metadata": {},
   "source": [
    "# Inverse transform \n",
    "Shape: $(P, L, 2L-1) \\rightarrow (P, L, 2L-1)$ "
   ]
  },
  {
   "cell_type": "markdown",
   "metadata": {},
   "source": [
    "### NumPy CPU implementation"
   ]
  },
  {
   "cell_type": "code",
   "execution_count": 16,
   "metadata": {},
   "outputs": [
    {
     "name": "stdout",
     "output_type": "stream",
     "text": [
      "13.3 ms ± 158 µs per loop (mean ± std. dev. of 7 runs, 100 loops each)\n"
     ]
    }
   ],
   "source": [
    "f_numpy = laguerre.inverse_transform(flmp_numpy, matrices)\n",
    "%timeit laguerre.inverse_transform(flmp_numpy, matrices)"
   ]
  },
  {
   "cell_type": "markdown",
   "metadata": {},
   "source": [
    "### JAX GPU implementation"
   ]
  },
  {
   "cell_type": "code",
   "execution_count": 17,
   "metadata": {},
   "outputs": [
    {
     "name": "stdout",
     "output_type": "stream",
     "text": [
      "1.69 ms ± 18 µs per loop (mean ± std. dev. of 7 runs, 1,000 loops each)\n"
     ]
    }
   ],
   "source": [
    "f_jax = laguerre.inverse_transform_jax(flmp_jax, matrices)\n",
    "%timeit laguerre.inverse_transform_jax(flmp_jax, matrices)"
   ]
  },
  {
   "cell_type": "markdown",
   "metadata": {},
   "source": [
    "### Evaluate transform error"
   ]
  },
  {
   "cell_type": "code",
   "execution_count": 18,
   "metadata": {},
   "outputs": [
    {
     "name": "stdout",
     "output_type": "stream",
     "text": [
      "Numpy: Forward mean absolute error = 2.758189784854311e-13\n",
      "JAX: Forward mean absolute error = 2.7573983646235196e-13\n"
     ]
    }
   ],
   "source": [
    "print(\"Numpy: Forward mean absolute error = {}\".format(np.nanmean(np.abs(f_numpy - f))))\n",
    "print(\"JAX: Forward mean absolute error = {}\".format(np.nanmean(np.abs(f_jax - f))))"
   ]
  }
 ],
 "metadata": {
  "kernelspec": {
   "display_name": "Python 3.10.13 ('s2ball')",
   "language": "python",
   "name": "python3"
  },
  "language_info": {
   "codemirror_mode": {
    "name": "ipython",
    "version": 3
   },
   "file_extension": ".py",
   "mimetype": "text/x-python",
   "name": "python",
   "nbconvert_exporter": "python",
   "pygments_lexer": "ipython3",
   "version": "3.10.13"
  },
  "orig_nbformat": 4,
  "vscode": {
   "interpreter": {
    "hash": "c26fb8a5b3a828af4aa55a54a0f65f1e491d1609a72e9ec2f7a9e6cd49be0b70"
   }
  }
 },
 "nbformat": 4,
 "nbformat_minor": 2
}
