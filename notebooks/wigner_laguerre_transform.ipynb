{
 "cells": [
  {
   "cell_type": "markdown",
   "metadata": {},
   "source": [
    "# Wigner-Laguerre transform\n",
    "\n",
    "Lets start by importing some packages"
   ]
  },
  {
   "cell_type": "code",
   "execution_count": 1,
   "metadata": {},
   "outputs": [
    {
     "name": "stdout",
     "output_type": "stream",
     "text": [
      "cpu\n"
     ]
    },
    {
     "name": "stderr",
     "output_type": "stream",
     "text": [
      "<ipython-input-1-7841848869cc>:2: DeprecationWarning: Accessing jax.config via the jax.config submodule is deprecated.\n",
      "  from jax.config import config\n"
     ]
    }
   ],
   "source": [
    "# Lets set the precision.\n",
    "from jax.config import config\n",
    "config.update(\"jax_enable_x64\", True)\n",
    "\n",
    "# Import math libraries.\n",
    "import numpy as np\n",
    "import jax.numpy as jnp\n",
    "\n",
    "# Check which devices we're running on.\n",
    "from jax.lib import xla_bridge\n",
    "print(xla_bridge.get_backend().platform)\n",
    "\n",
    "# Import the s2ball library.\n",
    "import s2ball\n",
    "from s2ball.transform import wigner_laguerre"
   ]
  },
  {
   "cell_type": "markdown",
   "metadata": {},
   "source": [
    "### Generate a random complex bandlimited field\n",
    "Here we generate random Wigner-Laguerre coefficients flmnp which we then convert into a bandlimit signal f on $\\mathbb{H}^4=\\mathbb{R}^+\\times \\text{SO}(3)$. We also compute some matrices which are cached and pass to their associated functions at run time."
   ]
  },
  {
   "cell_type": "code",
   "execution_count": 2,
   "metadata": {},
   "outputs": [],
   "source": [
    "L = 32        # Harmonic bandlimit of the problem.\n",
    "P = 32        # Radial bandlimit of the problem.\n",
    "N = 3         # Azimuthal (directional) bandlimit of problem.\n",
    "\n",
    "# Define a random seed.\n",
    "rng = np.random.default_rng(193412341234)\n",
    "\n",
    "# Use s2ball functions to generate a random signal.\n",
    "flmnp = s2ball.utils.generate_flmnp(rng, L, N, P)\n",
    "f = wigner_laguerre.inverse(flmnp, L, N, P)    # Note currently this has to explicitly bandlimit flmnp,\n",
    "flmnp = wigner_laguerre.forward(f, L, N, P)    # as I have yet to enforce bandlimiting symmetries to\n",
    "f = wigner_laguerre.inverse(flmnp, L, N, P)    # generate_flmnp directly."
   ]
  },
  {
   "cell_type": "markdown",
   "metadata": {},
   "source": [
    "### Load/construct relevant associated Legendre matrices\n",
    "\n",
    "Load precomputed associated Legendre matrices which are used to evaluate the spherical harmonic transform. If these matrices have already been computed, the load function will attempt to locate them inside the .matrices hidden directory. Note that you can specify a directory of your choice, .matrices is simply a default. "
   ]
  },
  {
   "cell_type": "code",
   "execution_count": 3,
   "metadata": {},
   "outputs": [],
   "source": [
    "matrices = s2ball.construct.matrix.generate_matrices(\"wigner_laguerre\", L, N, P)"
   ]
  },
  {
   "cell_type": "markdown",
   "metadata": {},
   "source": [
    "# Forward transform\n",
    "\n",
    "Shape: $(P, 2N-1, L, 2L-1) \\rightarrow (P, 2N-1, L, 2L-1)$ triangularly oversampled spherical Laguerre coefficients."
   ]
  },
  {
   "cell_type": "markdown",
   "metadata": {},
   "source": [
    "### NumPy CPU implementation"
   ]
  },
  {
   "cell_type": "code",
   "execution_count": 4,
   "metadata": {},
   "outputs": [
    {
     "name": "stdout",
     "output_type": "stream",
     "text": [
      "56.4 ms ± 981 µs per loop (mean ± std. dev. of 7 runs, 10 loops each)\n"
     ]
    }
   ],
   "source": [
    "flmnp_numpy = wigner_laguerre.forward_transform(f, matrices, L, N)\n",
    "%timeit wigner_laguerre.forward_transform(f, matrices, L, N)"
   ]
  },
  {
   "cell_type": "markdown",
   "metadata": {},
   "source": [
    "### JAX GPU implementation"
   ]
  },
  {
   "cell_type": "code",
   "execution_count": 5,
   "metadata": {},
   "outputs": [
    {
     "name": "stdout",
     "output_type": "stream",
     "text": [
      "7.69 ms ± 138 µs per loop (mean ± std. dev. of 7 runs, 100 loops each)\n"
     ]
    }
   ],
   "source": [
    "flmnp_jax = wigner_laguerre.forward_transform_jax(f, matrices, L, N)\n",
    "%timeit wigner_laguerre.forward_transform_jax(f, matrices, L, N)"
   ]
  },
  {
   "cell_type": "markdown",
   "metadata": {},
   "source": [
    "### Evaluate transform error"
   ]
  },
  {
   "cell_type": "code",
   "execution_count": 6,
   "metadata": {},
   "outputs": [
    {
     "name": "stdout",
     "output_type": "stream",
     "text": [
      "Numpy: Forward mean absolute error = 2.826225319563e-14\n",
      "JAX: Forward mean absolute error = 2.826701487097508e-14\n"
     ]
    }
   ],
   "source": [
    "print(\"Numpy: Forward mean absolute error = {}\".format(np.nanmean(np.abs(flmnp_numpy - flmnp))))\n",
    "print(\"JAX: Forward mean absolute error = {}\".format(np.nanmean(np.abs(flmnp_jax - flmnp))))"
   ]
  },
  {
   "cell_type": "markdown",
   "metadata": {},
   "source": [
    "# Inverse transform \n",
    "Shape: $(P, 2N-1, L, 2L-1) \\rightarrow (P, 2N-1, L, 2L-1)$ "
   ]
  },
  {
   "cell_type": "markdown",
   "metadata": {},
   "source": [
    "### NumPy CPU implementation"
   ]
  },
  {
   "cell_type": "code",
   "execution_count": 7,
   "metadata": {},
   "outputs": [
    {
     "name": "stdout",
     "output_type": "stream",
     "text": [
      "71.5 ms ± 118 µs per loop (mean ± std. dev. of 7 runs, 10 loops each)\n"
     ]
    }
   ],
   "source": [
    "f_numpy = wigner_laguerre.inverse_transform(flmnp_numpy, matrices, L)\n",
    "%timeit wigner_laguerre.inverse_transform(flmnp_numpy, matrices, L)"
   ]
  },
  {
   "cell_type": "markdown",
   "metadata": {},
   "source": [
    "### JAX GPU implementation"
   ]
  },
  {
   "cell_type": "code",
   "execution_count": 8,
   "metadata": {},
   "outputs": [
    {
     "name": "stdout",
     "output_type": "stream",
     "text": [
      "7.8 ms ± 79.4 µs per loop (mean ± std. dev. of 7 runs, 100 loops each)\n"
     ]
    }
   ],
   "source": [
    "f_jax = wigner_laguerre.inverse_transform_jax(flmnp_jax, matrices, L)\n",
    "%timeit wigner_laguerre.inverse_transform_jax(flmnp_jax, matrices, L)"
   ]
  },
  {
   "cell_type": "markdown",
   "metadata": {},
   "source": [
    "### Evaluate transform error"
   ]
  },
  {
   "cell_type": "code",
   "execution_count": 9,
   "metadata": {},
   "outputs": [
    {
     "name": "stdout",
     "output_type": "stream",
     "text": [
      "Numpy: Forward mean absolute error = 1.4534176996105977e-13\n",
      "JAX: Forward mean absolute error = 1.4530986305103866e-13\n"
     ]
    }
   ],
   "source": [
    "print(\"Numpy: Forward mean absolute error = {}\".format(np.nanmean(np.abs(f_numpy - f))))\n",
    "print(\"JAX: Forward mean absolute error = {}\".format(np.nanmean(np.abs(f_jax - f))))"
   ]
  }
 ],
 "metadata": {
  "kernelspec": {
   "display_name": "Python 3.10.13 ('s2ball')",
   "language": "python",
   "name": "python3"
  },
  "language_info": {
   "codemirror_mode": {
    "name": "ipython",
    "version": 3
   },
   "file_extension": ".py",
   "mimetype": "text/x-python",
   "name": "python",
   "nbconvert_exporter": "python",
   "pygments_lexer": "ipython3",
   "version": "3.10.13"
  },
  "orig_nbformat": 4,
  "vscode": {
   "interpreter": {
    "hash": "c26fb8a5b3a828af4aa55a54a0f65f1e491d1609a72e9ec2f7a9e6cd49be0b70"
   }
  }
 },
 "nbformat": 4,
 "nbformat_minor": 2
}
