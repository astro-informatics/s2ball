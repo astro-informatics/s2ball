{
 "cells": [
  {
   "cell_type": "markdown",
   "metadata": {},
   "source": [
    "# Spherical harmonic transform\n",
    "\n",
    "Lets start by importing some packages which we'll be using in this notebook"
   ]
  },
  {
   "cell_type": "code",
   "execution_count": 2,
   "metadata": {},
   "outputs": [
    {
     "name": "stdout",
     "output_type": "stream",
     "text": [
      "cpu\n"
     ]
    },
    {
     "name": "stderr",
     "output_type": "stream",
     "text": [
      "<ipython-input-2-9e4b2c1c9df1>:2: DeprecationWarning: Accessing jax.config via the jax.config submodule is deprecated.\n",
      "  from jax.config import config\n"
     ]
    }
   ],
   "source": [
    "# Lets set the precision.\n",
    "from jax.config import config\n",
    "config.update(\"jax_enable_x64\", True)\n",
    "\n",
    "# Import math libraries.\n",
    "import numpy as np\n",
    "import jax.numpy as jnp\n",
    "\n",
    "# Check which devices we're running on.\n",
    "from jax.lib import xla_bridge\n",
    "print(xla_bridge.get_backend().platform)\n",
    "\n",
    "# Import the s2ball library.\n",
    "import s2ball\n",
    "from s2ball.transform import harmonic"
   ]
  },
  {
   "cell_type": "markdown",
   "metadata": {},
   "source": [
    "### Generate a random complex bandlimited field\n",
    "\n",
    "Here we generate random harmonic coefficients flm_2d which we then convert into a bandlimit signal f on $\\mathbb{S}^2$."
   ]
  },
  {
   "cell_type": "code",
   "execution_count": 3,
   "metadata": {},
   "outputs": [],
   "source": [
    "L = 64    # Harmonic bandlimit of the problem.\n",
    "spin = 2  # Spin of the field under consideration.\n",
    "\n",
    "# Define a random seed.\n",
    "rng = np.random.default_rng(193412341234)\n",
    "\n",
    "# Use s2ball functions to generate a random signal.\n",
    "flm = s2ball.utils.generate_flm(rng, L, spin)\n",
    "f = harmonic.inverse(flm, L, spin=spin)"
   ]
  },
  {
   "cell_type": "markdown",
   "metadata": {},
   "source": [
    "### Load/construct relevant associated Legendre matrices\n",
    "\n",
    "Load precomputed associated Legendre matrices which are used to evaluate the spherical harmonic transform. If these matrices have already been computed, the load function will attempt to locate them inside the .matrices hidden directory. Note that you can specify a directory of your choice, .matrices is simply a default. "
   ]
  },
  {
   "cell_type": "code",
   "execution_count": 4,
   "metadata": {},
   "outputs": [],
   "source": [
    "matrices = s2ball.construct.matrix.generate_matrices(\"spherical_harmonic\", L, spin=spin)"
   ]
  },
  {
   "cell_type": "markdown",
   "metadata": {},
   "source": [
    "# Forward transform\n",
    "\n",
    "Shape: $(L, 2L-1) \\rightarrow (L, 2L-1)$ triangularly oversampled spherical harmonic coefficients."
   ]
  },
  {
   "cell_type": "markdown",
   "metadata": {},
   "source": [
    "### NumPy CPU implementation"
   ]
  },
  {
   "cell_type": "code",
   "execution_count": 5,
   "metadata": {},
   "outputs": [
    {
     "name": "stdout",
     "output_type": "stream",
     "text": [
      "747 µs ± 8.12 µs per loop (mean ± std. dev. of 7 runs, 1,000 loops each)\n"
     ]
    }
   ],
   "source": [
    "flm_numpy = harmonic.forward_transform(f, matrices)\n",
    "%timeit harmonic.forward_transform(f, matrices)"
   ]
  },
  {
   "cell_type": "markdown",
   "metadata": {},
   "source": [
    "### JAX GPU implementation"
   ]
  },
  {
   "cell_type": "code",
   "execution_count": 6,
   "metadata": {},
   "outputs": [
    {
     "name": "stdout",
     "output_type": "stream",
     "text": [
      "923 µs ± 20.7 µs per loop (mean ± std. dev. of 7 runs, 1,000 loops each)\n"
     ]
    }
   ],
   "source": [
    "flm_jax = harmonic.forward_transform_jax(f, matrices)\n",
    "%timeit harmonic.forward_transform_jax(f, matrices)"
   ]
  },
  {
   "cell_type": "markdown",
   "metadata": {},
   "source": [
    "### Evaluate transform error"
   ]
  },
  {
   "cell_type": "code",
   "execution_count": 7,
   "metadata": {},
   "outputs": [
    {
     "name": "stdout",
     "output_type": "stream",
     "text": [
      "Numpy: Forward mean absolute error = 1.6464202973778054e-15\n",
      "JAX: Forward mean absolute error = 1.6285429530404877e-15\n"
     ]
    }
   ],
   "source": [
    "print(\"Numpy: Forward mean absolute error = {}\".format(np.nanmean(np.abs(flm_numpy - flm))))\n",
    "print(\"JAX: Forward mean absolute error = {}\".format(np.nanmean(np.abs(flm_jax - flm))))"
   ]
  },
  {
   "cell_type": "markdown",
   "metadata": {},
   "source": [
    "# Inverse transform \n",
    "Shape: $(L, 2L-1) \\rightarrow (L, 2L-1)$ "
   ]
  },
  {
   "cell_type": "markdown",
   "metadata": {},
   "source": [
    "### NumPy CPU implementation"
   ]
  },
  {
   "cell_type": "code",
   "execution_count": 8,
   "metadata": {},
   "outputs": [
    {
     "name": "stdout",
     "output_type": "stream",
     "text": [
      "2.19 ms ± 60.6 µs per loop (mean ± std. dev. of 7 runs, 100 loops each)\n"
     ]
    }
   ],
   "source": [
    "f_numpy = harmonic.inverse_transform(flm_numpy, matrices)\n",
    "%timeit harmonic.inverse_transform(flm_numpy, matrices)"
   ]
  },
  {
   "cell_type": "markdown",
   "metadata": {},
   "source": [
    "### JAX GPU implementation"
   ]
  },
  {
   "cell_type": "code",
   "execution_count": 9,
   "metadata": {},
   "outputs": [
    {
     "name": "stdout",
     "output_type": "stream",
     "text": [
      "662 µs ± 8.19 µs per loop (mean ± std. dev. of 7 runs, 1,000 loops each)\n"
     ]
    }
   ],
   "source": [
    "f_jax = harmonic.inverse_transform_jax(flm_jax, matrices)\n",
    "%timeit harmonic.inverse_transform_jax(flm_jax, matrices)"
   ]
  },
  {
   "cell_type": "markdown",
   "metadata": {},
   "source": [
    "### Evaluate transform error"
   ]
  },
  {
   "cell_type": "code",
   "execution_count": 10,
   "metadata": {},
   "outputs": [
    {
     "name": "stdout",
     "output_type": "stream",
     "text": [
      "Numpy: Inverse mean absolute error = 4.9853753961577024e-14\n",
      "JAX: Inverse mean absolute error = 4.86174558520892e-14\n"
     ]
    }
   ],
   "source": [
    "print(\"Numpy: Inverse mean absolute error = {}\".format(np.nanmean(np.abs(f_numpy - f))))\n",
    "print(\"JAX: Inverse mean absolute error = {}\".format(np.nanmean(np.abs(f_jax - f))))"
   ]
  }
 ],
 "metadata": {
  "kernelspec": {
   "display_name": "Python 3.10.13 ('s2ball')",
   "language": "python",
   "name": "python3"
  },
  "language_info": {
   "codemirror_mode": {
    "name": "ipython",
    "version": 3
   },
   "file_extension": ".py",
   "mimetype": "text/x-python",
   "name": "python",
   "nbconvert_exporter": "python",
   "pygments_lexer": "ipython3",
   "version": "3.10.13"
  },
  "orig_nbformat": 4,
  "vscode": {
   "interpreter": {
    "hash": "c26fb8a5b3a828af4aa55a54a0f65f1e491d1609a72e9ec2f7a9e6cd49be0b70"
   }
  }
 },
 "nbformat": 4,
 "nbformat_minor": 2
}
