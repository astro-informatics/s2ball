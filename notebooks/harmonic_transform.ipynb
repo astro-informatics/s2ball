{
 "cells": [
  {
   "cell_type": "markdown",
   "metadata": {},
   "source": [
    "# Spherical harmonic transform\n",
    "\n",
    "Lets start by importing some packages"
   ]
  },
  {
   "cell_type": "code",
   "execution_count": null,
   "metadata": {},
   "outputs": [],
   "source": [
    "import numpy as np\n",
    "import pyssht as ssht \n",
    "\n",
    "from jax import jit, device_put\n",
    "import jax.numpy as jnp\n",
    "from jax.config import config\n",
    "from jax.lib import xla_bridge\n",
    "print(xla_bridge.get_backend().platform)\n",
    "\n",
    "config.update(\"jax_enable_x64\", True)\n",
    "\n",
    "from s2ball.construct.legendre_constructor import load_legendre_matrix\n",
    "from s2ball.transform.harmonic import *\n",
    "from s2ball.utils import *"
   ]
  },
  {
   "cell_type": "markdown",
   "metadata": {},
   "source": [
    "### Generate a random complex bandlimited field\n",
    "\n",
    "Here we generate random harmonic coefficients flm_2d which we then convert into a bandlimit signal f on $\\mathbb{S}^2$."
   ]
  },
  {
   "cell_type": "code",
   "execution_count": null,
   "metadata": {},
   "outputs": [],
   "source": [
    "L = 64\n",
    "spin = 0\n",
    "rng = np.random.default_rng(193412341234)\n",
    "flm_2d = generate_flm(rng, L, spin)\n",
    "flm = flm_2d_to_1d(flm_2d, L)\n",
    "f = ssht.inverse(flm, L, spin)"
   ]
  },
  {
   "cell_type": "markdown",
   "metadata": {},
   "source": [
    "### Load/construct relevant associated Legendre matrices\n",
    "\n",
    "Load precomputed associated Legendre matrices which are used to evaluate the spherical harmonic transform. If these matrices have already been computed, the load function will attempt to locate them inside the .matrices hidden directory. Note that you can specify a directory of your choice, .matrices is simply a default. "
   ]
  },
  {
   "cell_type": "code",
   "execution_count": null,
   "metadata": {},
   "outputs": [],
   "source": [
    "legendre_forward = load_legendre_matrix(L=L, forward=True, spin=spin)\n",
    "legendre_inverse = load_legendre_matrix(L=L, forward=False, spin=spin)\n",
    "\n",
    "legendre_forward_jax = device_put(legendre_forward)\n",
    "legendre_inverse_jax = device_put(legendre_inverse)"
   ]
  },
  {
   "cell_type": "markdown",
   "metadata": {},
   "source": [
    "# Forward transform\n",
    "\n",
    "Shape: $(L, 2L-1) \\rightarrow (L, 2L-1)$ triangularly oversampled spherical harmonic coefficients."
   ]
  },
  {
   "cell_type": "markdown",
   "metadata": {},
   "source": [
    "### SSHT CPU Cython implementation"
   ]
  },
  {
   "cell_type": "code",
   "execution_count": null,
   "metadata": {},
   "outputs": [],
   "source": [
    "%timeit ssht.forward(f, L, spin)"
   ]
  },
  {
   "cell_type": "markdown",
   "metadata": {},
   "source": [
    "### NumPy CPU implementation"
   ]
  },
  {
   "cell_type": "code",
   "execution_count": null,
   "metadata": {},
   "outputs": [],
   "source": [
    "flm_numpy = forward_transform(f, legendre_forward)\n",
    "%timeit forward_transform(f, legendre_forward)"
   ]
  },
  {
   "cell_type": "markdown",
   "metadata": {},
   "source": [
    "### JAX GPU implementation"
   ]
  },
  {
   "cell_type": "code",
   "execution_count": null,
   "metadata": {},
   "outputs": [],
   "source": [
    "f_jax = device_put(f)\n",
    "forward_jit = jit(forward_transform_jax)\n",
    "flm_jax = forward_jit(f_jax, legendre_forward_jax).block_until_ready()\n",
    "\n",
    "%timeit forward_jit(f_jax, legendre_forward_jax)"
   ]
  },
  {
   "cell_type": "markdown",
   "metadata": {},
   "source": [
    "### Evaluate transform error"
   ]
  },
  {
   "cell_type": "code",
   "execution_count": null,
   "metadata": {},
   "outputs": [],
   "source": [
    "flm_jax = np.array(flm_jax)\n",
    "print(\"Numpy: Forward mean absolute error = {}\".format(np.nanmean(np.abs(flm_numpy - flm_2d))))\n",
    "print(\"JAX: Forward mean absolute error = {}\".format(np.nanmean(np.abs(flm_jax - flm_2d))))"
   ]
  },
  {
   "cell_type": "markdown",
   "metadata": {},
   "source": [
    "# Inverse transform \n",
    "Shape: $(L, 2L-1) \\rightarrow (L, 2L-1)$ "
   ]
  },
  {
   "cell_type": "markdown",
   "metadata": {},
   "source": [
    "### SSHT CPU Cython implementation"
   ]
  },
  {
   "cell_type": "code",
   "execution_count": null,
   "metadata": {},
   "outputs": [],
   "source": [
    "%timeit ssht.inverse(flm, L, spin)"
   ]
  },
  {
   "cell_type": "markdown",
   "metadata": {},
   "source": [
    "### NumPy CPU implementation"
   ]
  },
  {
   "cell_type": "code",
   "execution_count": null,
   "metadata": {},
   "outputs": [],
   "source": [
    "f_numpy = inverse_transform(flm_numpy, legendre_inverse)\n",
    "%timeit inverse_transform(flm_numpy, legendre_inverse)"
   ]
  },
  {
   "cell_type": "markdown",
   "metadata": {},
   "source": [
    "### JAX GPU implementation"
   ]
  },
  {
   "cell_type": "code",
   "execution_count": null,
   "metadata": {},
   "outputs": [],
   "source": [
    "flm_jax = device_put(flm_jax)\n",
    "inverse_jit = jit(inverse_transform_jax)\n",
    "f_jax = inverse_jit(flm_jax, legendre_inverse_jax).block_until_ready()\n",
    "\n",
    "%timeit inverse_jit(flm_jax, legendre_inverse_jax)"
   ]
  },
  {
   "cell_type": "markdown",
   "metadata": {},
   "source": [
    "### Evaluate transform error"
   ]
  },
  {
   "cell_type": "code",
   "execution_count": null,
   "metadata": {},
   "outputs": [],
   "source": [
    "f_jax = np.array(f_jax)\n",
    "print(\"Numpy: Inverse mean absolute error = {}\".format(np.nanmean(np.abs(f_numpy - f))))\n",
    "print(\"JAX: Inverse mean absolute error = {}\".format(np.nanmean(np.abs(f_jax - f))))"
   ]
  }
 ],
 "metadata": {
  "interpreter": {
   "hash": "f9f6c6ef231f3dcb6e46b584b6761a2df9ab170c0acb5c88661e271f693e4e12"
  },
  "kernelspec": {
   "display_name": "baller",
   "language": "python",
   "name": "baller"
  },
  "language_info": {
   "codemirror_mode": {
    "name": "ipython",
    "version": 3
   },
   "file_extension": ".py",
   "mimetype": "text/x-python",
   "name": "python",
   "nbconvert_exporter": "python",
   "pygments_lexer": "ipython3",
   "version": "3.10.12"
  },
  "orig_nbformat": 4
 },
 "nbformat": 4,
 "nbformat_minor": 2
}
