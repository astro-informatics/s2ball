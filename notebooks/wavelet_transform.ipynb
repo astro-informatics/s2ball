{
 "cells": [
  {
   "cell_type": "markdown",
   "metadata": {},
   "source": [
    "# Wavelet transform\n",
    "\n",
    "Lets start by importing some packages"
   ]
  },
  {
   "cell_type": "code",
   "execution_count": 1,
   "metadata": {},
   "outputs": [
    {
     "name": "stdout",
     "output_type": "stream",
     "text": [
      "cpu\n"
     ]
    },
    {
     "name": "stderr",
     "output_type": "stream",
     "text": [
      "<ipython-input-1-486a22980479>:2: DeprecationWarning: Accessing jax.config via the jax.config submodule is deprecated.\n",
      "  from jax.config import config\n"
     ]
    }
   ],
   "source": [
    "# Lets set the precision.\n",
    "from jax.config import config\n",
    "config.update(\"jax_enable_x64\", True)\n",
    "\n",
    "# Import math libraries.\n",
    "import numpy as np\n",
    "import jax.numpy as jnp\n",
    "\n",
    "# Check which devices we're running on.\n",
    "from jax.lib import xla_bridge\n",
    "print(xla_bridge.get_backend().platform)\n",
    "\n",
    "# Import the s2ball library.\n",
    "import s2ball\n",
    "from s2ball.transform import ball_wavelet, laguerre"
   ]
  },
  {
   "cell_type": "markdown",
   "metadata": {},
   "source": [
    "### Generate a random complex bandlimited field\n",
    "Here we generate random Spherical-Laguerre coefficients flmp which we then convert into a bandlimit signal f on $\\mathbb{B}^4=\\mathbb{R}^+\\times\\mathbb{S}^2$. We also compute some matrices which are cached and pass to their associated functions at run time."
   ]
  },
  {
   "cell_type": "code",
   "execution_count": 2,
   "metadata": {},
   "outputs": [],
   "source": [
    "L = 32        # Harmonic bandlimit of the problem.\n",
    "P = 32        # Radial bandlimit of the problem.\n",
    "N = 3         # Azimuthal (directional) bandlimit of problem.\n",
    "\n",
    "# Define a random seed.\n",
    "rng = np.random.default_rng(193412341234)\n",
    "\n",
    "# Use s2ball functions to generate a random signal.\n",
    "flmp = s2ball.utils.generate_flmp(rng, L, P)\n",
    "f = laguerre.inverse(flmp, L, P)      # Note currently this has to explicitly bandlimit flmnp,\n",
    "w = ball_wavelet.forward(f, L, N, P)  # as I have yet to enforce bandlimiting symmetries to\n",
    "f = ball_wavelet.inverse(w, L, N, P)  # generate_flmp directly."
   ]
  },
  {
   "cell_type": "markdown",
   "metadata": {},
   "source": [
    "### Load/construct relevant associated Legendre matrices\n",
    "\n",
    "Load precomputed associated Legendre matrices which are used to evaluate the spherical harmonic transform. If these matrices have already been computed, the load function will attempt to locate them inside the .matrices hidden directory. Note that you can specify a directory of your choice, .matrices is simply a default. "
   ]
  },
  {
   "cell_type": "code",
   "execution_count": 3,
   "metadata": {},
   "outputs": [],
   "source": [
    "matrices = s2ball.construct.matrix.generate_matrices(\"wavelet\", L, N, P)"
   ]
  },
  {
   "cell_type": "markdown",
   "metadata": {},
   "source": [
    "# Forward transform"
   ]
  },
  {
   "cell_type": "markdown",
   "metadata": {},
   "source": [
    "### NumPy CPU implementation"
   ]
  },
  {
   "cell_type": "code",
   "execution_count": 4,
   "metadata": {},
   "outputs": [
    {
     "name": "stdout",
     "output_type": "stream",
     "text": [
      "465 ms ± 2.49 ms per loop (mean ± std. dev. of 7 runs, 1 loop each)\n"
     ]
    }
   ],
   "source": [
    "w_numpy = ball_wavelet.forward_transform(f, L, N, P, matrices)\n",
    "%timeit ball_wavelet.forward_transform(f, L, N, P, matrices)"
   ]
  },
  {
   "cell_type": "markdown",
   "metadata": {},
   "source": [
    "### JAX GPU implementation"
   ]
  },
  {
   "cell_type": "code",
   "execution_count": 5,
   "metadata": {},
   "outputs": [
    {
     "name": "stdout",
     "output_type": "stream",
     "text": [
      "64.5 ms ± 798 µs per loop (mean ± std. dev. of 7 runs, 10 loops each)\n"
     ]
    }
   ],
   "source": [
    "w_jax = ball_wavelet.forward_transform_jax(f, L, N, P, matrices)\n",
    "%timeit ball_wavelet.forward_transform_jax(f, L, N, P, matrices)"
   ]
  },
  {
   "cell_type": "markdown",
   "metadata": {},
   "source": [
    "# Inverse transform "
   ]
  },
  {
   "cell_type": "markdown",
   "metadata": {},
   "source": [
    "### NumPy CPU implementation"
   ]
  },
  {
   "cell_type": "code",
   "execution_count": 6,
   "metadata": {},
   "outputs": [
    {
     "name": "stdout",
     "output_type": "stream",
     "text": [
      "354 ms ± 2.19 ms per loop (mean ± std. dev. of 7 runs, 1 loop each)\n"
     ]
    }
   ],
   "source": [
    "f_numpy = ball_wavelet.inverse_transform(w_numpy, L, N, P, matrices)\n",
    "%timeit ball_wavelet.inverse_transform(w_numpy, L, N, P, matrices)"
   ]
  },
  {
   "cell_type": "markdown",
   "metadata": {},
   "source": [
    "### JAX GPU implementation"
   ]
  },
  {
   "cell_type": "code",
   "execution_count": 7,
   "metadata": {},
   "outputs": [
    {
     "name": "stdout",
     "output_type": "stream",
     "text": [
      "60.9 ms ± 932 µs per loop (mean ± std. dev. of 7 runs, 10 loops each)\n"
     ]
    }
   ],
   "source": [
    "f_jax = ball_wavelet.inverse_transform_jax(w_jax, L, N, P, matrices)\n",
    "%timeit ball_wavelet.inverse_transform_jax(w_jax, L, N, P, matrices)"
   ]
  },
  {
   "cell_type": "markdown",
   "metadata": {},
   "source": [
    "### Evaluate transform error"
   ]
  },
  {
   "cell_type": "code",
   "execution_count": 8,
   "metadata": {},
   "outputs": [
    {
     "name": "stdout",
     "output_type": "stream",
     "text": [
      "Round-trip: Mean absolute difference = 3.997665540708201e-15\n",
      "Numpy: Mean absolute error = 3.062883484046315e-13\n",
      "JAX: Mean absolute error = 3.062058563688262e-13\n"
     ]
    }
   ],
   "source": [
    "print(\"Round-trip: Mean absolute difference = {}\".format(np.nanmean(np.abs(f_numpy - f_jax))))\n",
    "print(\"Numpy: Mean absolute error = {}\".format(np.nanmean(np.abs(f_numpy - f))))\n",
    "print(\"JAX: Mean absolute error = {}\".format(np.nanmean(np.abs(f_jax - f))))"
   ]
  }
 ],
 "metadata": {
  "kernelspec": {
   "display_name": "Python 3.10.13 ('s2ball')",
   "language": "python",
   "name": "python3"
  },
  "language_info": {
   "codemirror_mode": {
    "name": "ipython",
    "version": 3
   },
   "file_extension": ".py",
   "mimetype": "text/x-python",
   "name": "python",
   "nbconvert_exporter": "python",
   "pygments_lexer": "ipython3",
   "version": "3.10.13"
  },
  "orig_nbformat": 4,
  "vscode": {
   "interpreter": {
    "hash": "c26fb8a5b3a828af4aa55a54a0f65f1e491d1609a72e9ec2f7a9e6cd49be0b70"
   }
  }
 },
 "nbformat": 4,
 "nbformat_minor": 2
}
