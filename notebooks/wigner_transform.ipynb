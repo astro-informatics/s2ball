{
 "cells": [
  {
   "cell_type": "markdown",
   "metadata": {},
   "source": [
    "# Wigner transforms by exploiting kernel precomputes\n",
    "\n",
    "Lets start by importing some packages"
   ]
  },
  {
   "cell_type": "code",
   "execution_count": null,
   "metadata": {},
   "outputs": [],
   "source": [
    "import numpy as np\n",
    "import so3\n",
    "\n",
    "from jax import jit, device_put\n",
    "import jax.numpy as jnp\n",
    "from jax.config import config\n",
    "from jax.lib import xla_bridge\n",
    "print(xla_bridge.get_backend().platform)\n",
    "\n",
    "config.update(\"jax_enable_x64\", True)\n",
    "\n",
    "from s2ball.construct.wigner_constructor import load_wigner_matrix\n",
    "from s2ball.transform.wigner import *\n",
    "from s2ball.utils import *"
   ]
  },
  {
   "cell_type": "markdown",
   "metadata": {},
   "source": [
    "### Generate a random complex bandlimited field"
   ]
  },
  {
   "cell_type": "code",
   "execution_count": null,
   "metadata": {},
   "outputs": [],
   "source": [
    "L = 32\n",
    "N = 32\n",
    "params = so3.create_parameter_dict(L=L, N=N, sampling_scheme_str=\"SO3_SAMPLING_MW\")\n",
    "rng = np.random.default_rng(193412341234)\n",
    "\n",
    "flmn_3d = generate_flmn(rng, L, N)\n",
    "flmn_1d = flmn_3d_to_1d(flmn_3d, L, N)\n",
    "\n",
    "f_1d = so3.inverse(flmn_1d, params)\n",
    "f_3d = f_1d.reshape(2 * N - 1, L, 2 * L - 1)"
   ]
  },
  {
   "cell_type": "markdown",
   "metadata": {},
   "source": [
    "### Load/construct relevant Wigner kernels"
   ]
  },
  {
   "cell_type": "code",
   "execution_count": null,
   "metadata": {},
   "outputs": [],
   "source": [
    "wigner_forward = load_wigner_matrix(L=L, N=N, forward=True)\n",
    "wigner_inverse = load_wigner_matrix(L=L, N=N, forward=False)\n",
    "\n",
    "wigner_forward_jax = device_put(wigner_forward)\n",
    "wigner_inverse_jax = device_put(wigner_inverse)"
   ]
  },
  {
   "cell_type": "markdown",
   "metadata": {},
   "source": [
    "# Forward transform\n",
    "\n",
    "Shape: $(2N-1, L, 2L-1) \\rightarrow (2N-1,L, 2L-1)$ triangularly oversampled wigner coefficients."
   ]
  },
  {
   "cell_type": "markdown",
   "metadata": {},
   "source": [
    "### SO3 CPU Cython implementation"
   ]
  },
  {
   "cell_type": "code",
   "execution_count": null,
   "metadata": {},
   "outputs": [],
   "source": [
    "flmn_1d = so3.forward(f_1d, params)\n",
    "%timeit so3.forward(f_1d, params)"
   ]
  },
  {
   "cell_type": "markdown",
   "metadata": {},
   "source": [
    "### NumPy CPU implementation"
   ]
  },
  {
   "cell_type": "code",
   "execution_count": null,
   "metadata": {},
   "outputs": [],
   "source": [
    "flmn_numpy = forward_transform(f_3d, wigner_forward, L, N)\n",
    "%timeit forward_transform(f_3d, wigner_forward, L, N)"
   ]
  },
  {
   "cell_type": "markdown",
   "metadata": {},
   "source": [
    "### JAX GPU implementation"
   ]
  },
  {
   "cell_type": "code",
   "execution_count": null,
   "metadata": {},
   "outputs": [],
   "source": [
    "f_jax = device_put(f_3d)\n",
    "forward_jit = jit(forward_transform_jax, static_argnums=(2, 3))\n",
    "flmn_jax = forward_jit(f_jax, wigner_forward_jax, L, N).block_until_ready()\n",
    "\n",
    "%timeit forward_jit(f_jax, wigner_forward_jax, L, N)"
   ]
  },
  {
   "cell_type": "markdown",
   "metadata": {},
   "source": [
    "### Evaluate transform error"
   ]
  },
  {
   "cell_type": "code",
   "execution_count": null,
   "metadata": {},
   "outputs": [],
   "source": [
    "flmn_jax = np.array(flmn_jax)\n",
    "print(\"Numpy: Forward mean absolute error = {}\".format(np.nanmean(np.abs(flmn_numpy - flmn_3d))))\n",
    "print(\"JAX: Forward mean absolute error = {}\".format(np.nanmean(np.abs(flmn_jax - flmn_3d))))"
   ]
  },
  {
   "cell_type": "markdown",
   "metadata": {},
   "source": [
    "# Inverse transform \n",
    "Shape: $(2N-1, L, 2L-1) \\rightarrow (2N-1, L, 2L-1)$ "
   ]
  },
  {
   "cell_type": "markdown",
   "metadata": {},
   "source": [
    "### SO3 CPU Cython implementation"
   ]
  },
  {
   "cell_type": "code",
   "execution_count": null,
   "metadata": {},
   "outputs": [],
   "source": [
    "f_check = so3.inverse(flmn_1d, params)\n",
    "%timeit so3.inverse(flmn_1d, params)"
   ]
  },
  {
   "cell_type": "markdown",
   "metadata": {},
   "source": [
    "### NumPy CPU implementation"
   ]
  },
  {
   "cell_type": "code",
   "execution_count": null,
   "metadata": {},
   "outputs": [],
   "source": [
    "f_numpy = inverse_transform(flmn_numpy, wigner_inverse, L)\n",
    "%timeit inverse_transform(flmn_numpy, wigner_inverse, L)"
   ]
  },
  {
   "cell_type": "markdown",
   "metadata": {},
   "source": [
    "### JAX GPU implementation"
   ]
  },
  {
   "cell_type": "code",
   "execution_count": null,
   "metadata": {},
   "outputs": [],
   "source": [
    "flmn_jax = device_put(flmn_jax)\n",
    "inverse_jit = jit(inverse_transform_jax, static_argnums=(2))\n",
    "f_jax = inverse_jit(flmn_jax, wigner_inverse_jax, L).block_until_ready()\n",
    "\n",
    "%timeit inverse_jit(flmn_jax, wigner_inverse_jax, L)"
   ]
  },
  {
   "cell_type": "markdown",
   "metadata": {},
   "source": [
    "### Evaluate transform error"
   ]
  },
  {
   "cell_type": "code",
   "execution_count": null,
   "metadata": {},
   "outputs": [],
   "source": [
    "f_jax = np.array(f_jax)\n",
    "f_check = f_check.reshape(2*N-1, L, 2*L-1)\n",
    "print(\"Numpy: Forward mean absolute error = {}\".format(np.nanmean(np.abs(f_numpy - f_check))))\n",
    "print(\"JAX: Forward mean absolute error = {}\".format(np.nanmean(np.abs(f_jax - f_check))))"
   ]
  },
  {
   "cell_type": "code",
   "execution_count": null,
   "metadata": {},
   "outputs": [],
   "source": []
  }
 ],
 "metadata": {
  "interpreter": {
   "hash": "805e7ce19fe903a3ed1299c98a3c14514eb61d14b8d138d66cb4f32886f441e4"
  },
  "kernelspec": {
   "display_name": "baller",
   "language": "python",
   "name": "baller"
  },
  "language_info": {
   "codemirror_mode": {
    "name": "ipython",
    "version": 3
   },
   "file_extension": ".py",
   "mimetype": "text/x-python",
   "name": "python",
   "nbconvert_exporter": "python",
   "pygments_lexer": "ipython3",
   "version": "3.10.12"
  },
  "orig_nbformat": 4
 },
 "nbformat": 4,
 "nbformat_minor": 2
}
