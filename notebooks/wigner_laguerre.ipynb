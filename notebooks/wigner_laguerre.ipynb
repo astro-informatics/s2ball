{
 "cells": [
  {
   "cell_type": "markdown",
   "metadata": {},
   "source": [
    "# Wigner Laguerre transforms by exploiting kernel precomputes\n",
    "\n",
    "Lets start by importing some packages"
   ]
  },
  {
   "cell_type": "code",
   "execution_count": null,
   "metadata": {},
   "outputs": [],
   "source": [
    "import os\n",
    "os.environ['CUDA_VISIBLE_DEVICES'] = ''\n",
    "# os.environ['CUDA_VISIBLE_DEVICES'] = '2'\n",
    "\n",
    "import numpy as np\n",
    "\n",
    "from jax import jit, device_put\n",
    "import jax.numpy as jnp\n",
    "from jax.config import config\n",
    "from jax.lib import xla_bridge\n",
    "print(xla_bridge.get_backend().platform)\n",
    "\n",
    "config.update(\"jax_enable_x64\", True)\n",
    "\n",
    "from baller.construct.wigner_constructor import load_wigner_matrix\n",
    "from baller.transform.wigner_laguerre import *\n",
    "from baller.sampling import laguerre_sampling\n",
    "from baller.utils import *"
   ]
  },
  {
   "cell_type": "markdown",
   "metadata": {},
   "source": [
    "### Generate a random complex bandlimited field"
   ]
  },
  {
   "cell_type": "code",
   "execution_count": null,
   "metadata": {},
   "outputs": [],
   "source": [
    "L = 32\n",
    "P = 32\n",
    "N = 3\n",
    "tau = 1.0\n",
    "rng = np.random.default_rng(193412341234)\n",
    "\n",
    "wigner_forward = load_wigner_matrix(L, N, forward=True)\n",
    "wigner_inverse = load_wigner_matrix(L, N, forward=False)\n",
    "\n",
    "lag_poly_f = laguerre_sampling.polynomials(P, tau, forward=True)\n",
    "lag_poly_i = laguerre_sampling.polynomials(P, tau, forward=False)\n",
    "\n",
    "wigner_forward_jax = device_put(wigner_forward)\n",
    "wigner_inverse_jax = device_put(wigner_inverse)\n",
    "\n",
    "lag_poly_f_jax = device_put(lag_poly_f)\n",
    "lag_poly_i_jax = device_put(lag_poly_i)\n",
    "\n",
    "\n",
    "flmnp = generate_flmnp(rng, L, N, P)\n",
    "f = inverse(flmnp, L, N, P, tau, wigner_inverse, lag_poly_i)\n",
    "flmnp = forward(f, L, N, P, tau, wigner_forward, lag_poly_f)\n",
    "f = inverse(flmnp, L, N, P, tau, wigner_inverse, lag_poly_i)"
   ]
  },
  {
   "cell_type": "markdown",
   "metadata": {},
   "source": [
    "# Forward transform\n",
    "\n",
    "Shape: $(P, 2N-1, L, 2L-1) \\rightarrow (P, 2N-1, L, 2L-1)$ triangularly oversampled spherical Laguerre coefficients."
   ]
  },
  {
   "cell_type": "markdown",
   "metadata": {},
   "source": [
    "FLAG implementation takes ~ (2N-1)*0.2s -- [figure 6b](https://arxiv.org/pdf/1205.0792.pdf) extrapolated by assuming harmonic transform for N is linear (it may well not be...)"
   ]
  },
  {
   "cell_type": "markdown",
   "metadata": {},
   "source": [
    "### NumPy CPU implementation"
   ]
  },
  {
   "cell_type": "code",
   "execution_count": null,
   "metadata": {},
   "outputs": [],
   "source": [
    "flmnp_numpy = forward_transform(f, wigner_forward, lag_poly_f, L, N)\n",
    "%timeit forward_transform(f, wigner_forward, lag_poly_f, L, N)"
   ]
  },
  {
   "cell_type": "markdown",
   "metadata": {},
   "source": [
    "### JAX GPU implementation"
   ]
  },
  {
   "cell_type": "code",
   "execution_count": null,
   "metadata": {},
   "outputs": [],
   "source": [
    "f_jax = device_put(f)\n",
    "forward_jit = jit(forward_transform_jax, static_argnums=(3,4))\n",
    "flmnp_jax = forward_jit(f_jax, wigner_forward_jax, lag_poly_f_jax, L, N).block_until_ready()\n",
    "\n",
    "%timeit forward_jit(f_jax, wigner_forward_jax, lag_poly_f_jax, L, N)"
   ]
  },
  {
   "cell_type": "markdown",
   "metadata": {},
   "source": [
    "### Evaluate transform error"
   ]
  },
  {
   "cell_type": "code",
   "execution_count": null,
   "metadata": {},
   "outputs": [],
   "source": [
    "flmnp_jax = np.array(flmnp_jax)\n",
    "print(\"Numpy: Forward mean absolute error = {}\".format(np.nanmean(np.abs(flmnp_numpy - flmnp))))\n",
    "print(\"JAX: Forward mean absolute error = {}\".format(np.nanmean(np.abs(flmnp_jax - flmnp))))"
   ]
  },
  {
   "cell_type": "markdown",
   "metadata": {},
   "source": [
    "# Inverse transform \n",
    "Shape: $(P, 2N-1, L, 2L-1) \\rightarrow (P, 2N-1, L, 2L-1)$ "
   ]
  },
  {
   "cell_type": "markdown",
   "metadata": {},
   "source": [
    "FLAG implementation takes ~ (2N-1)*0.2s -- [figure 6b](https://arxiv.org/pdf/1205.0792.pdf) extrapolated by assuming harmonic transform for N is linear (it may well not be...)"
   ]
  },
  {
   "cell_type": "markdown",
   "metadata": {},
   "source": [
    "### NumPy CPU implementation"
   ]
  },
  {
   "cell_type": "code",
   "execution_count": null,
   "metadata": {},
   "outputs": [],
   "source": [
    "f_numpy = inverse_transform(flmnp_numpy, wigner_inverse, lag_poly_i, L)\n",
    "%timeit inverse_transform(flmnp_numpy, wigner_inverse, lag_poly_i, L)"
   ]
  },
  {
   "cell_type": "markdown",
   "metadata": {},
   "source": [
    "### JAX GPU implementation"
   ]
  },
  {
   "cell_type": "code",
   "execution_count": null,
   "metadata": {},
   "outputs": [],
   "source": [
    "flmnp_jax = device_put(flmnp_jax)\n",
    "inverse_jit = jit(inverse_transform_jax, static_argnums=(3))\n",
    "f_jax = inverse_jit(flmnp_jax, wigner_inverse_jax, lag_poly_i_jax, L).block_until_ready()\n",
    "\n",
    "%timeit inverse_jit(flmnp_jax, wigner_inverse_jax, lag_poly_i_jax, L)"
   ]
  },
  {
   "cell_type": "markdown",
   "metadata": {},
   "source": [
    "### Evaluate transform error"
   ]
  },
  {
   "cell_type": "code",
   "execution_count": null,
   "metadata": {},
   "outputs": [],
   "source": [
    "f_jax = np.array(f_jax)\n",
    "print(\"Numpy: Forward mean absolute error = {}\".format(np.nanmean(np.abs(f_numpy - f))))\n",
    "print(\"JAX: Forward mean absolute error = {}\".format(np.nanmean(np.abs(f_jax - f))))"
   ]
  }
 ],
 "metadata": {
  "interpreter": {
   "hash": "805e7ce19fe903a3ed1299c98a3c14514eb61d14b8d138d66cb4f32886f441e4"
  },
  "kernelspec": {
   "display_name": "baller",
   "language": "python",
   "name": "baller"
  },
  "language_info": {
   "codemirror_mode": {
    "name": "ipython",
    "version": 3
   },
   "file_extension": ".py",
   "mimetype": "text/x-python",
   "name": "python",
   "nbconvert_exporter": "python",
   "pygments_lexer": "ipython3",
   "version": "3.8.15"
  },
  "orig_nbformat": 4
 },
 "nbformat": 4,
 "nbformat_minor": 2
}
