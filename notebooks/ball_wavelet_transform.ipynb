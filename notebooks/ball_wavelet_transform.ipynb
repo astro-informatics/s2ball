{
 "cells": [
  {
   "cell_type": "markdown",
   "metadata": {},
   "source": [
    "# Ball wavelet transform\n",
    "\n",
    "Lets start by importing some packages"
   ]
  },
  {
   "cell_type": "code",
   "execution_count": null,
   "metadata": {},
   "outputs": [],
   "source": [
    "import numpy as np\n",
    "\n",
    "from jax import jit, device_put\n",
    "from jax.config import config\n",
    "from jax.lib import xla_bridge\n",
    "print(xla_bridge.get_backend().platform)\n",
    "\n",
    "config.update(\"jax_enable_x64\", True)\n",
    "\n",
    "from s2ball.transform import laguerre, ball_wavelet\n",
    "from s2ball.wavelets.helper_functions import *\n",
    "from s2ball.wavelets import tiling\n",
    "from s2ball.construct import wavelet_constructor\n",
    "from s2ball.utils import *"
   ]
  },
  {
   "cell_type": "markdown",
   "metadata": {},
   "source": [
    "### Generate a random complex bandlimited field\n",
    "Here we generate random Spherical-Laguerre coefficients flmp which we then convert into a bandlimit signal f on $\\mathbb{B}^4=\\mathbb{R}^+\\times\\mathbb{S}^2$. We also compute some matrices which are cached and pass to their associated functions at run time."
   ]
  },
  {
   "cell_type": "code",
   "execution_count": null,
   "metadata": {},
   "outputs": [],
   "source": [
    "L = 32\n",
    "P = L\n",
    "N = 3\n",
    "tau = 1.0\n",
    "lam = 2.0\n",
    "rng = np.random.default_rng(193412341234)\n",
    "\n",
    "Jl = j_max(L, lam)\n",
    "Jp = j_max(P, lam)\n",
    "wav_lmp_i, scal_lmp = tiling.compute_wav_lmp(L, N, P, lam, lam)\n",
    "scal_lmp *= np.sqrt((4 * np.pi) / (2 * np.arange(L) + 1))\n",
    "\n",
    "wav_lmp_f = tiling.construct_wav_lmp(L, P, lam, lam)\n",
    "factor = 8 * np.pi**2 / (2 * np.arange(L) + 1)\n",
    "for jp in range(Jp + 1):\n",
    "    for jl in range(Jl + 1):\n",
    "        L_l = angular_bandlimit(jl, lam)\n",
    "        wav_lmp_f[jp][jl] = np.einsum(\n",
    "            \"pln,l->pln\", np.conj(wav_lmp_i[jp][jl]), factor[:L_l]\n",
    "        )\n",
    "\n",
    "legendre_kernels = wavelet_constructor.wavelet_legendre_kernels(L)\n",
    "lag_polys = wavelet_constructor.scaling_laguerre_kernels(P, tau)\n",
    "\n",
    "wav_lag_polys_forward = wavelet_constructor.wavelet_laguerre_kernels(P, lam, tau, forward=False)\n",
    "wig_kernels_forward = wavelet_constructor.wavelet_wigner_kernels(L, N, lam, forward=False)\n",
    "\n",
    "wav_lag_polys_inverse = wavelet_constructor.wavelet_laguerre_kernels(P, lam, tau, forward=True)\n",
    "wig_kernels_inverse = wavelet_constructor.wavelet_wigner_kernels(L, N, lam, forward=True)\n",
    "\n",
    "wigner_kernels_forward_jax = device_put(wig_kernels_forward)\n",
    "wigner_kernels_inverse_jax = device_put(wig_kernels_inverse)\n",
    "\n",
    "wav_lag_polys_forward_jax = device_put(wav_lag_polys_forward)\n",
    "wav_lag_polys_inverse_jax = device_put(wav_lag_polys_inverse)\n",
    "\n",
    "legendre_kernels_jax = device_put(legendre_kernels)\n",
    "lag_polys_jax = device_put(lag_polys)\n",
    "\n",
    "wav_lmp_i_jax = device_put(wav_lmp_i)\n",
    "wav_lmp_f_jax = device_put(wav_lmp_f)\n",
    "scal_lmp_jax = device_put(scal_lmp)\n",
    "\n",
    "flmp =  generate_flmp(rng, L, P)\n",
    "f = laguerre.inverse(flmp, L, P, tau)\n",
    "flmp = laguerre.forward(f, L, P, tau)\n",
    "f = laguerre.inverse(flmp, L, P, tau)"
   ]
  },
  {
   "cell_type": "markdown",
   "metadata": {},
   "source": [
    "# Forward transform"
   ]
  },
  {
   "cell_type": "markdown",
   "metadata": {},
   "source": [
    "### NumPy CPU implementation"
   ]
  },
  {
   "cell_type": "code",
   "execution_count": null,
   "metadata": {},
   "outputs": [],
   "source": [
    "f_wav_numpy, f_scal_numpy = ball_wavelet.forward_transform(f, wav_lmp_f, scal_lmp, L, N, P, lam, lam, legendre_kernels, lag_polys, wig_kernels_forward, wav_lag_polys_forward)\n",
    "%timeit ball_wavelet.forward_transform(f, wav_lmp_f, scal_lmp, L, N, P, lam, lam, legendre_kernels, lag_polys, wig_kernels_forward, wav_lag_polys_forward)"
   ]
  },
  {
   "cell_type": "markdown",
   "metadata": {},
   "source": [
    "### JAX GPU implementation"
   ]
  },
  {
   "cell_type": "code",
   "execution_count": null,
   "metadata": {},
   "outputs": [],
   "source": [
    "f_jax = device_put(f)\n",
    "forward_jit = jit(ball_wavelet.forward_transform_jax, static_argnums=(3, 4, 5, 6, 7))\n",
    "f_wav_jax, f_scal_jax = forward_jit(f_jax, wav_lmp_f_jax, scal_lmp_jax, L, N, P, lam, lam, legendre_kernels_jax, lag_polys_jax, wigner_kernels_forward_jax, wav_lag_polys_forward_jax)\n",
    "\n",
    "%timeit forward_jit(f_jax, wav_lmp_f_jax, scal_lmp_jax, L, N, P, lam, lam, legendre_kernels_jax, lag_polys_jax, wigner_kernels_forward_jax, wav_lag_polys_forward_jax)"
   ]
  },
  {
   "cell_type": "markdown",
   "metadata": {},
   "source": [
    "# Inverse transform "
   ]
  },
  {
   "cell_type": "markdown",
   "metadata": {},
   "source": [
    "### NumPy CPU implementation"
   ]
  },
  {
   "cell_type": "code",
   "execution_count": null,
   "metadata": {},
   "outputs": [],
   "source": [
    "f_numpy = ball_wavelet.inverse_transform(f_wav_numpy, f_scal_numpy, wav_lmp_i, scal_lmp, L, N, P, lam, lam, legendre_kernels, lag_polys, wig_kernels_inverse, wav_lag_polys_inverse)\n",
    "%timeit ball_wavelet.inverse_transform(f_wav_numpy, f_scal_numpy, wav_lmp_i, scal_lmp, L, N, P, lam, lam, legendre_kernels, lag_polys, wig_kernels_inverse, wav_lag_polys_inverse)"
   ]
  },
  {
   "cell_type": "markdown",
   "metadata": {},
   "source": [
    "### JAX GPU implementation"
   ]
  },
  {
   "cell_type": "code",
   "execution_count": null,
   "metadata": {},
   "outputs": [],
   "source": [
    "inverse_jit = jit(ball_wavelet.inverse_transform_jax, static_argnums=(4, 5, 6, 7, 8))\n",
    "f_jax = inverse_jit(f_wav_jax, f_scal_jax, wav_lmp_i_jax, scal_lmp_jax, L, N, P, lam, lam, legendre_kernels_jax, lag_polys_jax, wigner_kernels_inverse_jax, wav_lag_polys_inverse_jax)\n",
    "\n",
    "%timeit inverse_jit(f_wav_jax, f_scal_jax, wav_lmp_i_jax, scal_lmp_jax, L, N, P, lam, lam, legendre_kernels_jax, lag_polys_jax, wigner_kernels_inverse_jax, wav_lag_polys_inverse_jax)"
   ]
  },
  {
   "cell_type": "markdown",
   "metadata": {},
   "source": [
    "### Evaluate transform error"
   ]
  },
  {
   "cell_type": "code",
   "execution_count": null,
   "metadata": {},
   "outputs": [],
   "source": [
    "f_jax = np.array(f_jax)\n",
    "print(\"Round-trip mean absolute difference = {}\".format(np.nanmean(np.abs(f_numpy - f_jax))))"
   ]
  }
 ],
 "metadata": {
  "interpreter": {
   "hash": "805e7ce19fe903a3ed1299c98a3c14514eb61d14b8d138d66cb4f32886f441e4"
  },
  "kernelspec": {
   "display_name": "baller",
   "language": "python",
   "name": "baller"
  },
  "language_info": {
   "codemirror_mode": {
    "name": "ipython",
    "version": 3
   },
   "file_extension": ".py",
   "mimetype": "text/x-python",
   "name": "python",
   "nbconvert_exporter": "python",
   "pygments_lexer": "ipython3",
   "version": "3.10.12"
  },
  "orig_nbformat": 4
 },
 "nbformat": 4,
 "nbformat_minor": 2
}
