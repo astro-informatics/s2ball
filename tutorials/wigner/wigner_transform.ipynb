{
 "cells": [
  {
   "cell_type": "markdown",
   "metadata": {},
   "source": [
    "# Wigner transform\n",
    "\n",
    "Lets start by importing some packages which we'll be using in this notebook"
   ]
  },
  {
   "cell_type": "code",
   "execution_count": 10,
   "metadata": {},
   "outputs": [
    {
     "name": "stdout",
     "output_type": "stream",
     "text": [
      "cpu\n"
     ]
    },
    {
     "name": "stderr",
     "output_type": "stream",
     "text": [
      "<ipython-input-10-729094cb9b3b>:2: DeprecationWarning: Accessing jax.config via the jax.config submodule is deprecated.\n",
      "  from jax.config import config\n"
     ]
    }
   ],
   "source": [
    "# Lets set the precision.\n",
    "from jax.config import config\n",
    "config.update(\"jax_enable_x64\", True)\n",
    "\n",
    "# Import math libraries.\n",
    "import numpy as np\n",
    "import jax.numpy as jnp\n",
    "\n",
    "# Check which devices we're running on.\n",
    "from jax.lib import xla_bridge\n",
    "print(xla_bridge.get_backend().platform)\n",
    "\n",
    "# Import the s2ball library.\n",
    "import s2ball\n",
    "from s2ball.transform import wigner"
   ]
  },
  {
   "cell_type": "markdown",
   "metadata": {},
   "source": [
    "### Generate a random complex bandlimited field\n",
    "Here we generate random harmonic coefficients flmn_3d which we then convert into a bandlimit signal f on SO(3)."
   ]
  },
  {
   "cell_type": "code",
   "execution_count": 11,
   "metadata": {},
   "outputs": [],
   "source": [
    "L = 32       # Harmonic bandlimit of the problem.\n",
    "N = 5        # Azimuthal (directional) bandlimit of problem.\n",
    "\n",
    "# Define a random seed.\n",
    "rng = np.random.default_rng(193412341234)\n",
    "\n",
    "# Use s2ball functions to generate a random signal.\n",
    "flmn = s2ball.utils.generate_flmn(rng, L, N)\n",
    "f = wigner.inverse(flmn, L, N)"
   ]
  },
  {
   "cell_type": "markdown",
   "metadata": {},
   "source": [
    "### Load/construct relevant Wigner kernels\n",
    "Load precomputed Wigner matrices which are used to evaluate the Wigner transform. If these matrices have already been computed, the load function will attempt to locate them inside the .matrices hidden directory. Note that you can specify a directory of your choice, .matrices is simply a default. "
   ]
  },
  {
   "cell_type": "code",
   "execution_count": 12,
   "metadata": {},
   "outputs": [],
   "source": [
    "matrices = s2ball.construct.matrix.generate_matrices(\"wigner\", L, N)"
   ]
  },
  {
   "cell_type": "markdown",
   "metadata": {},
   "source": [
    "# Forward transform\n",
    "\n",
    "Shape: $(2N-1, L, 2L-1) \\rightarrow (2N-1,L, 2L-1)$ triangularly oversampled wigner coefficients."
   ]
  },
  {
   "cell_type": "markdown",
   "metadata": {},
   "source": [
    "### NumPy CPU implementation"
   ]
  },
  {
   "cell_type": "code",
   "execution_count": 13,
   "metadata": {},
   "outputs": [
    {
     "name": "stdout",
     "output_type": "stream",
     "text": [
      "957 µs ± 8.57 µs per loop (mean ± std. dev. of 7 runs, 1,000 loops each)\n"
     ]
    }
   ],
   "source": [
    "flmn_numpy = wigner.forward_transform(f, matrices, L, N)\n",
    "%timeit wigner.forward_transform(f, matrices, L, N)"
   ]
  },
  {
   "cell_type": "markdown",
   "metadata": {},
   "source": [
    "### JAX GPU implementation"
   ]
  },
  {
   "cell_type": "code",
   "execution_count": 5,
   "metadata": {},
   "outputs": [
    {
     "name": "stdout",
     "output_type": "stream",
     "text": [
      "10.7 ms ± 9.33 µs per loop (mean ± std. dev. of 7 runs, 100 loops each)\n"
     ]
    }
   ],
   "source": [
    "flmn_jax = wigner.forward_transform_jax(f, matrices, L, N)\n",
    "%timeit wigner.forward_transform_jax(f, matrices, L, N)"
   ]
  },
  {
   "cell_type": "markdown",
   "metadata": {},
   "source": [
    "### Evaluate transform error"
   ]
  },
  {
   "cell_type": "code",
   "execution_count": 6,
   "metadata": {},
   "outputs": [
    {
     "name": "stdout",
     "output_type": "stream",
     "text": [
      "Numpy: Forward mean absolute error = 4.051471247538891e-16\n",
      "JAX: Forward mean absolute error = 4.009922861864243e-16\n"
     ]
    }
   ],
   "source": [
    "flmn_jax = np.array(flmn_jax)\n",
    "print(\"Numpy: Forward mean absolute error = {}\".format(np.nanmean(np.abs(flmn_numpy - flmn))))\n",
    "print(\"JAX: Forward mean absolute error = {}\".format(np.nanmean(np.abs(flmn_jax - flmn))))"
   ]
  },
  {
   "cell_type": "markdown",
   "metadata": {},
   "source": [
    "# Inverse transform \n",
    "Shape: $(2N-1, L, 2L-1) \\rightarrow (2N-1, L, 2L-1)$."
   ]
  },
  {
   "cell_type": "markdown",
   "metadata": {},
   "source": [
    "### NumPy CPU implementation"
   ]
  },
  {
   "cell_type": "code",
   "execution_count": 7,
   "metadata": {},
   "outputs": [
    {
     "name": "stdout",
     "output_type": "stream",
     "text": [
      "16.6 ms ± 45.4 µs per loop (mean ± std. dev. of 7 runs, 100 loops each)\n"
     ]
    }
   ],
   "source": [
    "f_numpy = wigner.inverse_transform(flmn_numpy, matrices, L)\n",
    "%timeit wigner.inverse_transform(flmn_numpy, matrices, L)"
   ]
  },
  {
   "cell_type": "markdown",
   "metadata": {},
   "source": [
    "### JAX GPU implementation"
   ]
  },
  {
   "cell_type": "code",
   "execution_count": 8,
   "metadata": {},
   "outputs": [
    {
     "name": "stdout",
     "output_type": "stream",
     "text": [
      "10.6 ms ± 26.8 µs per loop (mean ± std. dev. of 7 runs, 100 loops each)\n"
     ]
    }
   ],
   "source": [
    "f_jax = wigner.inverse_transform_jax(flmn_jax, matrices, L)\n",
    "%timeit wigner.inverse_transform_jax(flmn_jax, matrices, L)"
   ]
  },
  {
   "cell_type": "markdown",
   "metadata": {},
   "source": [
    "### Evaluate transform error"
   ]
  },
  {
   "cell_type": "code",
   "execution_count": 9,
   "metadata": {},
   "outputs": [
    {
     "name": "stdout",
     "output_type": "stream",
     "text": [
      "Numpy: Forward mean absolute error = 1.9107959830973208e-14\n",
      "JAX: Forward mean absolute error = 1.9281520313991466e-14\n"
     ]
    }
   ],
   "source": [
    "print(\"Numpy: Forward mean absolute error = {}\".format(np.nanmean(np.abs(f_numpy - f))))\n",
    "print(\"JAX: Forward mean absolute error = {}\".format(np.nanmean(np.abs(f_jax - f))))"
   ]
  }
 ],
 "metadata": {
  "kernelspec": {
   "display_name": "Python 3.10.13 ('s2ball')",
   "language": "python",
   "name": "python3"
  },
  "language_info": {
   "codemirror_mode": {
    "name": "ipython",
    "version": 3
   },
   "file_extension": ".py",
   "mimetype": "text/x-python",
   "name": "python",
   "nbconvert_exporter": "python",
   "pygments_lexer": "ipython3",
   "version": "3.10.13"
  },
  "vscode": {
   "interpreter": {
    "hash": "c26fb8a5b3a828af4aa55a54a0f65f1e491d1609a72e9ec2f7a9e6cd49be0b70"
   }
  }
 },
 "nbformat": 4,
 "nbformat_minor": 2
}
